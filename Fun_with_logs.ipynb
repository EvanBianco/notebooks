{
 "metadata": {
  "name": ""
 },
 "nbformat": 3,
 "nbformat_minor": 0,
 "worksheets": [
  {
   "cells": [
    {
     "cell_type": "code",
     "collapsed": false,
     "input": [
      "ls"
     ],
     "language": "python",
     "metadata": {},
     "outputs": [
      {
       "output_type": "stream",
       "stream": "stdout",
       "text": [
        "A100SC_b-54X.segy             F3_Top.txt                    Untitled0.ipynb               ternary.txt\r\n",
        "Amplitude.ipynb               F3_demo6_amplitude.txt        \u001b[34mipywidgets\u001b[m\u001b[m/                   test.segy\r\n",
        "Battleship.ipynb              \u001b[34mJSAnimation\u001b[m\u001b[m/                  las.py\r\n",
        "E-38.las                      Penobscot_HorB.txt            las.pyc\r\n",
        "F3_Shallow.txt                TLE Tutorial - Filters.ipynb  segypy.py\r\n"
       ]
      }
     ],
     "prompt_number": 2
    },
    {
     "cell_type": "code",
     "collapsed": false,
     "input": [
      "from las import LASReader\n",
      "import matplotlib.pyplot as plt\n",
      "import numpy as np\n",
      "% matplotlib inline"
     ],
     "language": "python",
     "metadata": {},
     "outputs": [],
     "prompt_number": 140
    },
    {
     "cell_type": "code",
     "collapsed": false,
     "input": [
      "f = 'E-38.las'\n",
      "well = LASReader(f , null_subs=np.nan)"
     ],
     "language": "python",
     "metadata": {},
     "outputs": [],
     "prompt_number": 4
    },
    {
     "cell_type": "code",
     "collapsed": false,
     "input": [
      "data = well.data2d\n",
      "data[8000:8003]"
     ],
     "language": "python",
     "metadata": {},
     "outputs": [
      {
       "metadata": {},
       "output_type": "pyout",
       "prompt_number": 21,
       "text": [
        "array([[  1.23931680e+03,   1.58980000e+00,   3.63258500e+02,\n",
        "          7.25742000e+01,   7.80067000e+01,   7.85480000e+01,\n",
        "          7.70730000e+01,   2.21016200e+02,   4.31449510e+03,\n",
        "         -6.19000000e-02,  -2.45000000e-02,  -2.45000000e-02,\n",
        "          1.85809000e+01,   2.15745300e+02,   1.03339800e+02,\n",
        "          2.48608000e+02,   2.25353300e+02,   2.30556200e+02,\n",
        "          1.86506700e+02,   3.62429000e+01,   2.49800000e-01,\n",
        "          2.49800000e-01,   5.01320000e+00,   9.46510000e+00,\n",
        "          2.75208370e+03,   2.69044560e+03,   7.89752000e+01,\n",
        "          4.90684000e+01,  -6.46562500e+02,   9.28000000e-02,\n",
        "          2.52100000e+03,   2.80000000e+01],\n",
        "       [  1.23946920e+03,   1.58970000e+00,   4.12222300e+02,\n",
        "          8.01479000e+01,   8.53041000e+01,   8.48946000e+01,\n",
        "          8.33492000e+01,   2.20509800e+02,   4.22593990e+03,\n",
        "         -7.05000000e-02,  -2.62000000e-02,  -2.62000000e-02,\n",
        "          2.47680000e+01,   2.14225800e+02,   1.01429100e+02,\n",
        "          2.45409500e+02,   2.24862100e+02,   2.28115000e+02,\n",
        "          2.06310300e+02,   3.62429000e+01,   2.28200000e-01,\n",
        "          2.28200000e-01,   4.90350000e+00,   9.83360000e+00,\n",
        "          2.76640720e+03,   2.69316600e+03,   8.94801000e+01,\n",
        "          4.00643000e+01,  -6.45750000e+02,   8.90000000e-02,\n",
        "          2.51900000e+03,   2.80000000e+01],\n",
        "       [  1.23962160e+03,   1.58970000e+00,   4.19222000e+02,\n",
        "          7.78922000e+01,   8.50577000e+01,   8.00804000e+01,\n",
        "          8.30796000e+01,   2.20965900e+02,   4.33821480e+03,\n",
        "         -6.20000000e-02,  -5.22000000e-02,  -5.22000000e-02,\n",
        "          1.29484000e+01,   2.14127900e+02,   9.97610000e+01,\n",
        "          2.47154100e+02,   2.26417900e+02,   2.31349500e+02,\n",
        "          2.15750000e+02,   3.62429000e+01,   2.22800000e-01,\n",
        "          2.22800000e-01,   4.60250000e+00,   1.00000000e+01,\n",
        "          2.75224120e+03,   2.73610300e+03,   8.05367000e+01,\n",
        "          3.31373000e+01,  -6.43812500e+02,   8.87000000e-02,\n",
        "          2.55600000e+03,   2.80000000e+01]])"
       ]
      }
     ],
     "prompt_number": 21
    },
    {
     "cell_type": "code",
     "collapsed": false,
     "input": [
      "depth = data[:,0]\n",
      "depth[:10]"
     ],
     "language": "python",
     "metadata": {},
     "outputs": [
      {
       "metadata": {},
       "output_type": "pyout",
       "prompt_number": 7,
       "text": [
        "array([ 20.1168,  20.2692,  20.4216,  20.574 ,  20.7264,  20.8788,\n",
        "        21.0312,  21.1836,  21.336 ,  21.4884])"
       ]
      }
     ],
     "prompt_number": 7
    },
    {
     "cell_type": "code",
     "collapsed": false,
     "input": [
      "well.curves.display()"
     ],
     "language": "python",
     "metadata": {},
     "outputs": [
      {
       "output_type": "stream",
       "stream": "stdout",
       "text": [
        "DEPT (M)         ''                             [1 DEPTH (BOREHOLE) {F10.4}]\n",
        "AMF (OHMM)       ''                             [2 Array Induction Mud Resistivity Fully Calibrated {F13.4}]\n",
        "AT10 (OHMM)      ''                             [3 Array Induction Two Foot Resistivity A10 {F13.4}]\n",
        "AT20 (OHMM)      ''                             [4 Array Induction Two Foot Resistivity A20 {F13.4}]\n",
        "AT30 (OHMM)      ''                             [5 Array Induction Two Foot Resistivity A30 {F13.4}]\n",
        "AT60 (OHMM)      ''                             [6 Array Induction Two Foot Resistivity A60 {F13.4}]\n",
        "AT90 (OHMM)      ''                             [7 Array Induction Two Foot Resistivity A90 {F13.4}]\n",
        "CALI (MM)        ''                             [8 Caliper {F13.4}]\n",
        "CDF (N)          ''                             [9 Calibrated Downhole Force {F13.4}]\n",
        "DPHI (V/V)       ''                             [10 Density Porosity {F13.4}]\n",
        "DPHI_SAN (V/V)   ''                             [11 Density Porosity (matrix Sandstone) {F13.4}]\n",
        "DPHZ (V/V)       ''                             [12 HRDD Standard Resolution Density Porosity {F13.4}]\n",
        "DRHO (K/M3)      ''                             [13 Bulk Density Correction {F13.4}]\n",
        "DT (US/M)        ''                             [14 Delta-T {F13.4}]\n",
        "GR (GAPI)        ''                             [15 Gamma-Ray {F13.4}]\n",
        "HCAL (MM)        ''                             [16 HRCC Cal. Caliper {F13.4}]\n",
        "HDMI (MM)        ''                             [17 Hole Diameter Minimum {F13.4}]\n",
        "HDMX (MM)        ''                             [18 Hole Diameter Maximum {F13.4}]\n",
        "HDRA (K/M3)      ''                             [19 HRDD Density Correction {F13.4}]\n",
        "HTEM (DEGC)      ''                             [20 HTC Temperature {F13.4}]\n",
        "NPOR (V/V)       ''                             [21 Enhanced Thermal Neutron Porosity {F13.4}]\n",
        "NPOR_SAN (V/V)   ''                             [22 Enhanced Thermal Neutron Porosity (matrix Sandstone) {F13.4}]\n",
        "PEF              ''                             [23 Photoelectric Factor {F13.4}]\n",
        "PEFZ             ''                             [24 HRDD Standard Resolution Formation Photoelectric Factor {F13.4}]\n",
        "RHOB (K/M3)      ''                             [25 Bulk Density {F13.4}]\n",
        "RHOZ (K/M3)      ''                             [26 HRDD Standard Resolution Formation Density {F13.4}]\n",
        "RT (OHMM)        ''                             [27 True Resistivity {F13.4}]\n",
        "RXOZ (OHMM)      ''                             [28 MCFL Standard Resolution Invaded Zone Resistivity {F13.4}]\n",
        "SP (MV)          ''                             [29 SP Shifted {F13.4}]\n",
        "SPHI (V/V)       ''                             [30 Sonic Porosity {F13.4}]\n",
        "TENS (LBF)       ''                             [31 Cable Tension {F13.4}]\n",
        "Gas              '0-0-0-0'                      [32]\n"
       ]
      }
     ],
     "prompt_number": 11
    },
    {
     "cell_type": "code",
     "collapsed": false,
     "input": [
      "well.start, well.stop"
     ],
     "language": "python",
     "metadata": {},
     "outputs": [
      {
       "metadata": {},
       "output_type": "pyout",
       "prompt_number": 13,
       "text": [
        "(20.1168, 1729.8924)"
       ]
      }
     ],
     "prompt_number": 13
    },
    {
     "cell_type": "markdown",
     "metadata": {},
     "source": [
      "Extract the gamma-ray log."
     ]
    },
    {
     "cell_type": "code",
     "collapsed": false,
     "input": [
      "gr = np.vstack((data[:,0], data[:,14])).T\n",
      "print gr\n",
      "gr.shape"
     ],
     "language": "python",
     "metadata": {},
     "outputs": [
      {
       "output_type": "stream",
       "stream": "stdout",
       "text": [
        "[[   20.1168        nan]\n",
        " [   20.2692        nan]\n",
        " [   20.4216        nan]\n",
        " ..., \n",
        " [ 1729.5876        nan]\n",
        " [ 1729.74          nan]\n",
        " [ 1729.8924        nan]]\n"
       ]
      },
      {
       "metadata": {},
       "output_type": "pyout",
       "prompt_number": 41,
       "text": [
        "(11220, 2)"
       ]
      }
     ],
     "prompt_number": 41
    },
    {
     "cell_type": "markdown",
     "metadata": {},
     "source": [
      "Discard all the nans."
     ]
    },
    {
     "cell_type": "code",
     "collapsed": false,
     "input": [
      "gr = gr[~np.isnan(gr[:,1])]\n",
      "print gr"
     ],
     "language": "python",
     "metadata": {},
     "outputs": []
    },
    {
     "cell_type": "code",
     "collapsed": false,
     "input": [
      "plt.plot(gr[:,1],gr[:,0])\n",
      "plt.gca().invert_yaxis()\n",
      "plt.show()"
     ],
     "language": "python",
     "metadata": {},
     "outputs": [],
     "prompt_number": 50
    },
    {
     "cell_type": "code",
     "collapsed": false,
     "input": [
      "d = gr[:,0]\n",
      "g = gr[:,1]\n",
      "binno = 31\n",
      "norm = binno * (g-np.amin(g))/(np.amax(g)-np.amin(g))\n",
      "bins = np.arange(binno)\n",
      "dig = np.digitize(norm, bins, right=True)\n",
      "np.amax(dig), np.amin(dig)"
     ],
     "language": "python",
     "metadata": {},
     "outputs": [
      {
       "metadata": {},
       "output_type": "pyout",
       "prompt_number": 170,
       "text": [
        "(31, 0)"
       ]
      }
     ],
     "prompt_number": 170
    },
    {
     "cell_type": "code",
     "collapsed": false,
     "input": [
      "plt.plot(dig,d)\n",
      "plt.gca().invert_yaxis()\n",
      "plt.show()"
     ],
     "language": "python",
     "metadata": {},
     "outputs": [
      {
       "metadata": {},
       "output_type": "display_data",
       "png": "[encoded data removed]",
       "text": [
        "<matplotlib.figure.Figure at 0x114c40690>"
       ]
      }
     ],
     "prompt_number": 171
    },
    {
     "cell_type": "code",
     "collapsed": false,
     "input": [
      "plt.figure(figsize=(9,9))\n",
      "plt.set_cmap('jet')\n",
      "\n",
      "for p in range(9):\n",
      "    p += 1\n",
      "    glcm = np.zeros((binno,binno), dtype=int)\n",
      "\n",
      "    for i,v in enumerate(dig):\n",
      "        try:\n",
      "            glcm[v,dig[i + 2*p]] += 1\n",
      "        except:\n",
      "            continue\n",
      "\n",
      "    plt.subplot(3,3,p)\n",
      "    plt.axis('off')\n",
      "    plt.title(np.mean(glcm))\n",
      "    plt.imshow(np.maximum(0,np.log(glcm)), interpolation='nearest')\n",
      "    \n",
      "plt.show()"
     ],
     "language": "python",
     "metadata": {},
     "outputs": [
      {
       "metadata": {},
       "output_type": "display_data",
       "png": "[encoded data removed]",
       "text": [
        "<matplotlib.figure.Figure at 0x111340150>"
       ]
      }
     ],
     "prompt_number": 181
    },
    {
     "cell_type": "markdown",
     "metadata": {},
     "source": [
      "Mahotas averages the GLCM across directions. Let's try averaging across scale, then we'll try direction. "
     ]
    },
    {
     "cell_type": "code",
     "collapsed": false,
     "input": [
      "plt.figure(figsize=(3,3))\n",
      "plt.set_cmap('jet')\n",
      "\n",
      "glcm = np.zeros((binno,binno), dtype=int)\n",
      "\n",
      "for p in range(9):\n",
      "    p += 1\n",
      "    for i,v in enumerate(dig):\n",
      "        try:\n",
      "            glcm[v,dig[i + 2*p]] += 1\n",
      "        except:\n",
      "            continue\n",
      "\n",
      "plt.axis('off')\n",
      "plt.title('Step DOWN, Avg scale')\n",
      "plt.imshow(np.maximum(0,np.log(glcm)), interpolation='nearest')\n",
      "    \n",
      "plt.show()\n",
      "\n",
      "print \"First 8 grey values in GLCM...\"\n",
      "print glcm[:8,:8]"
     ],
     "language": "python",
     "metadata": {},
     "outputs": [
      {
       "metadata": {},
       "output_type": "display_data",
       "png": "[encoded data removed]",
       "text": [
        "<matplotlib.figure.Figure at 0x115025bd0>"
       ]
      },
      {
       "output_type": "stream",
       "stream": "stdout",
       "text": [
        "First 8 grey values in GLCM...\n",
        "[[ 0  0  1  2  2  0  1  0]\n",
        " [ 0  0  3  2  2  2  0  0]\n",
        " [ 0  2  6 11  8 16  9 11]\n",
        " [ 1  4 16 17 12 18 18 19]\n",
        " [ 0  1  4  6 21 25 32  9]\n",
        " [ 0  1  7 10 10 15 23 22]\n",
        " [ 0  0  3  6 14 12 22 15]\n",
        " [ 0  2  8 10  8 13  7 27]]\n"
       ]
      }
     ],
     "prompt_number": 182
    },
    {
     "cell_type": "code",
     "collapsed": false,
     "input": [
      "plt.figure(figsize=(6,3))\n",
      "plt.set_cmap('jet')\n",
      "\n",
      "glcm_down = np.zeros((binno,binno), dtype=int)\n",
      "\n",
      "for p in range(9):\n",
      "    p += 1\n",
      "    for i,v in enumerate(dig):\n",
      "        try:\n",
      "            glcm_down[v,dig[i - 2*p]] += 1\n",
      "        except:\n",
      "            continue\n",
      "\n",
      "plt.subplot(1,2,1)\n",
      "plt.axis('off')\n",
      "plt.title('Step UP')\n",
      "plt.imshow(np.maximum(0,np.log(glcm_down)), interpolation='nearest')\n",
      "plt.subplot(1,2,2)\n",
      "plt.axis('off')\n",
      "plt.title('Difference')\n",
      "plt.imshow(glcm_down.T - glcm, interpolation='nearest')\n",
      "    \n",
      "plt.show()"
     ],
     "language": "python",
     "metadata": {},
     "outputs": [
      {
       "metadata": {},
       "output_type": "display_data",
       "png": "[encoded data removed]",
       "text": [
        "<matplotlib.figure.Figure at 0x10dbd75d0>"
       ]
      }
     ],
     "prompt_number": 175
    },
    {
     "cell_type": "markdown",
     "metadata": {},
     "source": [
      "Maybe not surprising, but the matrix for comparing UP in the log seems to be exactly the same as the transpose of comparing DOWN. I don't know what that strange series of non-zero samples is..."
     ]
    },
    {
     "cell_type": "markdown",
     "metadata": {},
     "source": [
      "We really want to compute the GLCM for a moving kernel, rather than the whole log. Let's do 100 samples at a time."
     ]
    },
    {
     "cell_type": "code",
     "collapsed": false,
     "input": [
      "glcm = np.zeros((binno,binno), dtype=int)\n",
      "\n",
      "mean = np.empty_like(dig)\n",
      "\n",
      "for index, sample in enumerate(dig[50:-50]):\n",
      "    for p in range(9):\n",
      "        p += 1\n",
      "        for i,v in enumerate(dig[index-49:index+50]):\n",
      "            try:\n",
      "                glcm[v,dig[i + 2*p]] += 1\n",
      "            except:\n",
      "                continue\n",
      "        mean[index] = np.mean(glcm)\n",
      "        \n",
      "plt.plot(mean)\n",
      "plt.gca().invert_yaxis()\n",
      "plt.show()"
     ],
     "language": "python",
     "metadata": {},
     "outputs": [
      {
       "metadata": {},
       "output_type": "display_data",
       "png": "[encoded data removed]",
       "text": [
        "<matplotlib.figure.Figure at 0x10dbd7c90>"
       ]
      }
     ],
     "prompt_number": 179
    },
    {
     "cell_type": "code",
     "collapsed": false,
     "input": [],
     "language": "python",
     "metadata": {},
     "outputs": []
    }
   ],
   "metadata": {}
  }
 ]
}