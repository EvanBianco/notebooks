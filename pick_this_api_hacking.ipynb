{
 "cells": [
  {
   "cell_type": "code",
   "execution_count": 1,
   "metadata": {
    "collapsed": false
   },
   "outputs": [],
   "source": [
    "import time\n",
    "import numpy as np\n",
    "from numpy.fft import rfftn, irfftn\n",
    "import matplotlib.pyplot as plt\n",
    "import matplotlib.cm as cm\n",
    "from ipywidgets import interact\n",
    "import pickthat\n",
    "%matplotlib inline"
   ]
  },
  {
   "cell_type": "markdown",
   "metadata": {},
   "source": [
    "For example"
   ]
  },
  {
   "cell_type": "code",
   "execution_count": 28,
   "metadata": {
    "collapsed": false
   },
   "outputs": [
    {
     "data": {
      "text/plain": [
       "['biography',\n",
       " 'education',\n",
       " 'email',\n",
       " 'environment',\n",
       " 'experience',\n",
       " 'linkedin',\n",
       " 'location',\n",
       " 'nickname',\n",
       " 'profession',\n",
       " 'user_id']"
      ]
     },
     "execution_count": 28,
     "metadata": {},
     "output_type": "execute_result"
    }
   ],
   "source": [
    "api = pickthat.API()\n",
    "u = api.users()\n",
    "list(filter(lambda i: '__' not in i, dir(u[3])))"
   ]
  },
  {
   "cell_type": "code",
   "execution_count": 29,
   "metadata": {
    "collapsed": false
   },
   "outputs": [
    {
     "data": {
      "text/plain": [
       "'http://lh3.googleusercontent.com/1bg394j9LNZIZ_oRv6FAyooH4dKwY1ke_mcxfc-Bdr1Q7GBGlc0ED1DqZDN5cOIEBbIpBTCxYTMRycWPgaLtDA'"
      ]
     },
     "execution_count": 29,
     "metadata": {},
     "output_type": "execute_result"
    }
   ],
   "source": [
    "api = pickthat.API()\n",
    "p = api.images()\n",
    "p[1].link"
   ]
  },
  {
   "cell_type": "code",
   "execution_count": 30,
   "metadata": {
    "collapsed": false
   },
   "outputs": [
    {
     "data": {
      "text/plain": [
       "['Brain MRI',\n",
       " 'Bouguer gravity map, Southern Tuscany, Italy',\n",
       " 'Namibian margin',\n",
       " '',\n",
       " 'Mancora seismic',\n",
       " 'Baby tooth in full grown adult',\n",
       " 'Cell counting',\n",
       " 'Sobrarbe',\n",
       " '2D marine data  from  Southern shelf of Marmara sea ( ın front of the Imralı Basin) ',\n",
       " 'Ho ho ho',\n",
       " 'Alaska seismic',\n",
       " '',\n",
       " \"Where's the salt?\",\n",
       " 'Ireland seismic',\n",
       " 'Brazil seismic',\n",
       " 'Photomicrograph',\n",
       " 'Parametric Echosounder Profile ',\n",
       " 'Nova Scotia seismic',\n",
       " 'Salter–Harris',\n",
       " 'Synthetic seismic over a thrust',\n",
       " 'Seismic Oceanography',\n",
       " 'Marmousi Synthetic',\n",
       " '',\n",
       " 'Mediterranean Sea Evaporites 2D Seismic',\n",
       " 'Browse basin',\n",
       " 'Deuteranope ROYGBIV',\n",
       " 'Parasound profile']"
      ]
     },
     "execution_count": 30,
     "metadata": {},
     "output_type": "execute_result"
    }
   ],
   "source": [
    "[q.title for q in p]"
   ]
  },
  {
   "cell_type": "code",
   "execution_count": 32,
   "metadata": {
    "collapsed": false
   },
   "outputs": [
    {
     "data": {
      "text/plain": [
       "['rightsholder',\n",
       " 'permission',\n",
       " 'image_key',\n",
       " 'image_id',\n",
       " 'pickstyle',\n",
       " 'challenge',\n",
       " 'user',\n",
       " 'height',\n",
       " 'preshow',\n",
       " 'image',\n",
       " 'title',\n",
       " 'composite',\n",
       " 'use_ab_test',\n",
       " 'width',\n",
       " 'heatmap',\n",
       " 'description',\n",
       " 'link']"
      ]
     },
     "execution_count": 32,
     "metadata": {},
     "output_type": "execute_result"
    }
   ],
   "source": [
    "list(filter(lambda i: '__' not in i, p[0].__dir__()))"
   ]
  },
  {
   "cell_type": "code",
   "execution_count": 34,
   "metadata": {
    "collapsed": false
   },
   "outputs": [],
   "source": [
    "img = [q for q in p if q.title == \"Where's the salt?\"][0]"
   ]
  },
  {
   "cell_type": "code",
   "execution_count": 36,
   "metadata": {
    "collapsed": false
   },
   "outputs": [
    {
     "ename": "NameError",
     "evalue": "name 'q' is not defined",
     "output_type": "error",
     "traceback": [
      "\u001b[0;31m---------------------------------------------------------------------------\u001b[0m",
      "\u001b[0;31mNameError\u001b[0m                                 Traceback (most recent call last)",
      "\u001b[0;32m<ipython-input-36-e10318c08ad4>\u001b[0m in \u001b[0;36m<module>\u001b[0;34m()\u001b[0m\n\u001b[0;32m----> 1\u001b[0;31m \u001b[0mlen\u001b[0m\u001b[0;34m(\u001b[0m\u001b[0mq\u001b[0m\u001b[0;34m)\u001b[0m  \u001b[0;31m# Should be ~430 for Brazil.\u001b[0m\u001b[0;34m\u001b[0m\u001b[0m\n\u001b[0m",
      "\u001b[0;31mNameError\u001b[0m: name 'q' is not defined"
     ]
    }
   ],
   "source": [
    "len(q)  # Should be ~430 for Brazil."
   ]
  },
  {
   "cell_type": "code",
   "execution_count": 37,
   "metadata": {
    "collapsed": true
   },
   "outputs": [],
   "source": [
    "picks = remove_empties(api.picks(image_id = img.image_id))"
   ]
  },
  {
   "cell_type": "code",
   "execution_count": 45,
   "metadata": {
    "collapsed": false
   },
   "outputs": [
    {
     "data": {
      "text/plain": [
       "[[407, 55],\n",
       " [415, 66],\n",
       " [425, 65],\n",
       " [432, 59],\n",
       " [441, 61],\n",
       " [448, 70],\n",
       " [467, 77],\n",
       " [475, 74],\n",
       " [483, 79],\n",
       " [490, 89],\n",
       " [519, 88],\n",
       " [533, 103],\n",
       " [547, 101],\n",
       " [553, 95],\n",
       " [567, 96],\n",
       " [577, 105],\n",
       " [586, 97],\n",
       " [622, 95],\n",
       " [636, 82],\n",
       " [650, 62],\n",
       " [660, 57],\n",
       " [668, 69],\n",
       " [664, 82],\n",
       " [635, 138],\n",
       " [653, 185],\n",
       " [655, 200],\n",
       " [673, 244],\n",
       " [684, 296],\n",
       " [681, 357],\n",
       " [658, 369],\n",
       " [659, 396],\n",
       " [761, 520],\n",
       " [766, 555],\n",
       " [373, 546],\n",
       " [383, 459],\n",
       " [377, 417],\n",
       " [374, 331],\n",
       " [384, 294],\n",
       " [403, 291],\n",
       " [424, 294],\n",
       " [438, 281],\n",
       " [432, 204],\n",
       " [436, 174],\n",
       " [430, 155],\n",
       " [419, 145],\n",
       " [405, 134],\n",
       " [393, 113],\n",
       " [398, 79],\n",
       " [403, 62]]"
      ]
     },
     "execution_count": 45,
     "metadata": {},
     "output_type": "execute_result"
    }
   ],
   "source": [
    "picks[0].picks"
   ]
  },
  {
   "cell_type": "code",
   "execution_count": 39,
   "metadata": {
    "collapsed": false
   },
   "outputs": [],
   "source": [
    "heatmap = img.heatmap(picks)"
   ]
  },
  {
   "cell_type": "code",
   "execution_count": 40,
   "metadata": {
    "collapsed": false
   },
   "outputs": [
    {
     "data": {
      "text/plain": [
       "<matplotlib.image.AxesImage at 0x10d22cb38>"
      ]
     },
     "execution_count": 40,
     "metadata": {},
     "output_type": "execute_result"
    },
    {
     "data": {
      "image/svg+xml": [
       "<?xml version=\"1.0\" encoding=\"utf-8\" standalone=\"no\"?>\n",
       "<!DOCTYPE svg PUBLIC \"-//W3C//DTD SVG 1.1//EN\"\n",
       "  \"http://www.w3.org/Graphics/SVG/1.1/DTD/svg11.dtd\">\n",
       "<!-- Created with matplotlib (http://matplotlib.org/) -->\n",
       "<svg height=\"255pt\" version=\"1.1\" viewBox=\"0 0 347 255\" width=\"347pt\" xmlns=\"http://www.w3.org/2000/svg\" xmlns:xlink=\"http://www.w3.org/1999/xlink\">\n",
       " <defs>\n",
       "  <style type=\"text/css\">\n",
       "*{stroke-linecap:butt;stroke-linejoin:round;stroke-miterlimit:100000;}\n",
       "  </style>\n",
       " </defs>\n",
       " <g id=\"figure_1\">\n",
       "  <g id=\"patch_1\">\n",
       "   <path d=\"M 0 255.968586 \n",
       "L 347.56483 255.968586 \n",
       "L 347.56483 0 \n",
       "L 0 0 \n",
       "L 0 255.968586 \n",
       "z\n",
       "\" style=\"fill:none;\"/>\n",
       "  </g>\n",
       "  <g id=\"axes_1\">\n",
       "   <g id=\"patch_2\">\n",
       "    <path d=\"M 30.2875 235.090461 \n",
       "L 328.085636 235.090461 \n",
       "L 328.085636 11.890461 \n",
       "L 30.2875 11.890461 \n",
       "z\n",
       "\" style=\"fill:#ffffff;\"/>\n",
       "   </g>\n",
       "   <g clip-path=\"url(#p7464988945)\">\n",
       "    <image height=\"224.0\" id=\"image4fd3e1811d\" width=\"299.0\" x=\"30.2875\" xlink:href=\"data:image/png;base64,\n",
       "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\" y=\"11.0904606358\"/>\n",
       "   </g>\n",
       "   <g id=\"patch_3\">\n",
       "    <path d=\"M 328.085636 235.090461 \n",
       "L 328.085636 11.890461 \n",
       "\" style=\"fill:none;stroke:#000000;stroke-linecap:square;stroke-linejoin:miter;\"/>\n",
       "   </g>\n",
       "   <g id=\"patch_4\">\n",
       "    <path d=\"M 30.2875 11.890461 \n",
       "L 328.085636 11.890461 \n",
       "\" style=\"fill:none;stroke:#000000;stroke-linecap:square;stroke-linejoin:miter;\"/>\n",
       "   </g>\n",
       "   <g id=\"patch_5\">\n",
       "    <path d=\"M 30.2875 235.090461 \n",
       "L 328.085636 235.090461 \n",
       "\" style=\"fill:none;stroke:#000000;stroke-linecap:square;stroke-linejoin:miter;\"/>\n",
       "   </g>\n",
       "   <g id=\"patch_6\">\n",
       "    <path d=\"M 30.2875 235.090461 \n",
       "L 30.2875 11.890461 \n",
       "\" style=\"fill:none;stroke:#000000;stroke-linecap:square;stroke-linejoin:miter;\"/>\n",
       "   </g>\n",
       "   <g id=\"matplotlib.axis_1\">\n",
       "    <g id=\"xtick_1\">\n",
       "     <g id=\"line2d_1\">\n",
       "      <defs>\n",
       "       <path d=\"M 0 0 \n",
       "L 0 -4 \n",
       "\" id=\"m06a35ce59e\" style=\"stroke:#000000;stroke-width:0.5;\"/>\n",
       "      </defs>\n",
       "      <g>\n",
       "       <use style=\"stroke:#000000;stroke-width:0.5;\" x=\"30.4361018642\" xlink:href=\"#m06a35ce59e\" y=\"235.090460636\"/>\n",
       "      </g>\n",
       "     </g>\n",
       "     <g id=\"line2d_2\">\n",
       "      <defs>\n",
       "       <path d=\"M 0 0 \n",
       "L 0 4 \n",
       "\" id=\"md7e36806af\" style=\"stroke:#000000;stroke-width:0.5;\"/>\n",
       "      </defs>\n",
       "      <g>\n",
       "       <use style=\"stroke:#000000;stroke-width:0.5;\" x=\"30.4361018642\" xlink:href=\"#md7e36806af\" y=\"11.8904606358\"/>\n",
       "      </g>\n",
       "     </g>\n",
       "     <g id=\"text_1\">\n",
       "      <!-- 0 -->\n",
       "      <defs>\n",
       "       <path d=\"M 31.78125 66.40625 \n",
       "Q 24.171875 66.40625 20.328125 58.90625 \n",
       "Q 16.5 51.421875 16.5 36.375 \n",
       "Q 16.5 21.390625 20.328125 13.890625 \n",
       "Q 24.171875 6.390625 31.78125 6.390625 \n",
       "Q 39.453125 6.390625 43.28125 13.890625 \n",
       "Q 47.125 21.390625 47.125 36.375 \n",
       "Q 47.125 51.421875 43.28125 58.90625 \n",
       "Q 39.453125 66.40625 31.78125 66.40625 \n",
       "M 31.78125 74.21875 \n",
       "Q 44.046875 74.21875 50.515625 64.515625 \n",
       "Q 56.984375 54.828125 56.984375 36.375 \n",
       "Q 56.984375 17.96875 50.515625 8.265625 \n",
       "Q 44.046875 -1.421875 31.78125 -1.421875 \n",
       "Q 19.53125 -1.421875 13.0625 8.265625 \n",
       "Q 6.59375 17.96875 6.59375 36.375 \n",
       "Q 6.59375 54.828125 13.0625 64.515625 \n",
       "Q 19.53125 74.21875 31.78125 74.21875 \n",
       "\" id=\"BitstreamVeraSans-Roman-30\"/>\n",
       "      </defs>\n",
       "      <g transform=\"translate(27.2548518642 246.688898136)scale(0.1 -0.1)\">\n",
       "       <use xlink:href=\"#BitstreamVeraSans-Roman-30\"/>\n",
       "      </g>\n",
       "     </g>\n",
       "    </g>\n",
       "    <g id=\"xtick_2\">\n",
       "     <g id=\"line2d_3\">\n",
       "      <g>\n",
       "       <use style=\"stroke:#000000;stroke-width:0.5;\" x=\"89.8768475366\" xlink:href=\"#m06a35ce59e\" y=\"235.090460636\"/>\n",
       "      </g>\n",
       "     </g>\n",
       "     <g id=\"line2d_4\">\n",
       "      <g>\n",
       "       <use style=\"stroke:#000000;stroke-width:0.5;\" x=\"89.8768475366\" xlink:href=\"#md7e36806af\" y=\"11.8904606358\"/>\n",
       "      </g>\n",
       "     </g>\n",
       "     <g id=\"text_2\">\n",
       "      <!-- 200 -->\n",
       "      <defs>\n",
       "       <path d=\"M 19.1875 8.296875 \n",
       "L 53.609375 8.296875 \n",
       "L 53.609375 0 \n",
       "L 7.328125 0 \n",
       "L 7.328125 8.296875 \n",
       "Q 12.9375 14.109375 22.625 23.890625 \n",
       "Q 32.328125 33.6875 34.8125 36.53125 \n",
       "Q 39.546875 41.84375 41.421875 45.53125 \n",
       "Q 43.3125 49.21875 43.3125 52.78125 \n",
       "Q 43.3125 58.59375 39.234375 62.25 \n",
       "Q 35.15625 65.921875 28.609375 65.921875 \n",
       "Q 23.96875 65.921875 18.8125 64.3125 \n",
       "Q 13.671875 62.703125 7.8125 59.421875 \n",
       "L 7.8125 69.390625 \n",
       "Q 13.765625 71.78125 18.9375 73 \n",
       "Q 24.125 74.21875 28.421875 74.21875 \n",
       "Q 39.75 74.21875 46.484375 68.546875 \n",
       "Q 53.21875 62.890625 53.21875 53.421875 \n",
       "Q 53.21875 48.921875 51.53125 44.890625 \n",
       "Q 49.859375 40.875 45.40625 35.40625 \n",
       "Q 44.1875 33.984375 37.640625 27.21875 \n",
       "Q 31.109375 20.453125 19.1875 8.296875 \n",
       "\" id=\"BitstreamVeraSans-Roman-32\"/>\n",
       "      </defs>\n",
       "      <g transform=\"translate(80.3330975366 246.688898136)scale(0.1 -0.1)\">\n",
       "       <use xlink:href=\"#BitstreamVeraSans-Roman-32\"/>\n",
       "       <use x=\"63.623046875\" xlink:href=\"#BitstreamVeraSans-Roman-30\"/>\n",
       "       <use x=\"127.24609375\" xlink:href=\"#BitstreamVeraSans-Roman-30\"/>\n",
       "      </g>\n",
       "     </g>\n",
       "    </g>\n",
       "    <g id=\"xtick_3\">\n",
       "     <g id=\"line2d_5\">\n",
       "      <g>\n",
       "       <use style=\"stroke:#000000;stroke-width:0.5;\" x=\"149.317593209\" xlink:href=\"#m06a35ce59e\" y=\"235.090460636\"/>\n",
       "      </g>\n",
       "     </g>\n",
       "     <g id=\"line2d_6\">\n",
       "      <g>\n",
       "       <use style=\"stroke:#000000;stroke-width:0.5;\" x=\"149.317593209\" xlink:href=\"#md7e36806af\" y=\"11.8904606358\"/>\n",
       "      </g>\n",
       "     </g>\n",
       "     <g id=\"text_3\">\n",
       "      <!-- 400 -->\n",
       "      <defs>\n",
       "       <path d=\"M 37.796875 64.3125 \n",
       "L 12.890625 25.390625 \n",
       "L 37.796875 25.390625 \n",
       "z\n",
       "M 35.203125 72.90625 \n",
       "L 47.609375 72.90625 \n",
       "L 47.609375 25.390625 \n",
       "L 58.015625 25.390625 \n",
       "L 58.015625 17.1875 \n",
       "L 47.609375 17.1875 \n",
       "L 47.609375 0 \n",
       "L 37.796875 0 \n",
       "L 37.796875 17.1875 \n",
       "L 4.890625 17.1875 \n",
       "L 4.890625 26.703125 \n",
       "z\n",
       "\" id=\"BitstreamVeraSans-Roman-34\"/>\n",
       "      </defs>\n",
       "      <g transform=\"translate(139.773843209 246.688898136)scale(0.1 -0.1)\">\n",
       "       <use xlink:href=\"#BitstreamVeraSans-Roman-34\"/>\n",
       "       <use x=\"63.623046875\" xlink:href=\"#BitstreamVeraSans-Roman-30\"/>\n",
       "       <use x=\"127.24609375\" xlink:href=\"#BitstreamVeraSans-Roman-30\"/>\n",
       "      </g>\n",
       "     </g>\n",
       "    </g>\n",
       "    <g id=\"xtick_4\">\n",
       "     <g id=\"line2d_7\">\n",
       "      <g>\n",
       "       <use style=\"stroke:#000000;stroke-width:0.5;\" x=\"208.758338881\" xlink:href=\"#m06a35ce59e\" y=\"235.090460636\"/>\n",
       "      </g>\n",
       "     </g>\n",
       "     <g id=\"line2d_8\">\n",
       "      <g>\n",
       "       <use style=\"stroke:#000000;stroke-width:0.5;\" x=\"208.758338881\" xlink:href=\"#md7e36806af\" y=\"11.8904606358\"/>\n",
       "      </g>\n",
       "     </g>\n",
       "     <g id=\"text_4\">\n",
       "      <!-- 600 -->\n",
       "      <defs>\n",
       "       <path d=\"M 33.015625 40.375 \n",
       "Q 26.375 40.375 22.484375 35.828125 \n",
       "Q 18.609375 31.296875 18.609375 23.390625 \n",
       "Q 18.609375 15.53125 22.484375 10.953125 \n",
       "Q 26.375 6.390625 33.015625 6.390625 \n",
       "Q 39.65625 6.390625 43.53125 10.953125 \n",
       "Q 47.40625 15.53125 47.40625 23.390625 \n",
       "Q 47.40625 31.296875 43.53125 35.828125 \n",
       "Q 39.65625 40.375 33.015625 40.375 \n",
       "M 52.59375 71.296875 \n",
       "L 52.59375 62.3125 \n",
       "Q 48.875 64.0625 45.09375 64.984375 \n",
       "Q 41.3125 65.921875 37.59375 65.921875 \n",
       "Q 27.828125 65.921875 22.671875 59.328125 \n",
       "Q 17.53125 52.734375 16.796875 39.40625 \n",
       "Q 19.671875 43.65625 24.015625 45.921875 \n",
       "Q 28.375 48.1875 33.59375 48.1875 \n",
       "Q 44.578125 48.1875 50.953125 41.515625 \n",
       "Q 57.328125 34.859375 57.328125 23.390625 \n",
       "Q 57.328125 12.15625 50.6875 5.359375 \n",
       "Q 44.046875 -1.421875 33.015625 -1.421875 \n",
       "Q 20.359375 -1.421875 13.671875 8.265625 \n",
       "Q 6.984375 17.96875 6.984375 36.375 \n",
       "Q 6.984375 53.65625 15.1875 63.9375 \n",
       "Q 23.390625 74.21875 37.203125 74.21875 \n",
       "Q 40.921875 74.21875 44.703125 73.484375 \n",
       "Q 48.484375 72.75 52.59375 71.296875 \n",
       "\" id=\"BitstreamVeraSans-Roman-36\"/>\n",
       "      </defs>\n",
       "      <g transform=\"translate(199.214588881 246.688898136)scale(0.1 -0.1)\">\n",
       "       <use xlink:href=\"#BitstreamVeraSans-Roman-36\"/>\n",
       "       <use x=\"63.623046875\" xlink:href=\"#BitstreamVeraSans-Roman-30\"/>\n",
       "       <use x=\"127.24609375\" xlink:href=\"#BitstreamVeraSans-Roman-30\"/>\n",
       "      </g>\n",
       "     </g>\n",
       "    </g>\n",
       "    <g id=\"xtick_5\">\n",
       "     <g id=\"line2d_9\">\n",
       "      <g>\n",
       "       <use style=\"stroke:#000000;stroke-width:0.5;\" x=\"268.199084554\" xlink:href=\"#m06a35ce59e\" y=\"235.090460636\"/>\n",
       "      </g>\n",
       "     </g>\n",
       "     <g id=\"line2d_10\">\n",
       "      <g>\n",
       "       <use style=\"stroke:#000000;stroke-width:0.5;\" x=\"268.199084554\" xlink:href=\"#md7e36806af\" y=\"11.8904606358\"/>\n",
       "      </g>\n",
       "     </g>\n",
       "     <g id=\"text_5\">\n",
       "      <!-- 800 -->\n",
       "      <defs>\n",
       "       <path d=\"M 31.78125 34.625 \n",
       "Q 24.75 34.625 20.71875 30.859375 \n",
       "Q 16.703125 27.09375 16.703125 20.515625 \n",
       "Q 16.703125 13.921875 20.71875 10.15625 \n",
       "Q 24.75 6.390625 31.78125 6.390625 \n",
       "Q 38.8125 6.390625 42.859375 10.171875 \n",
       "Q 46.921875 13.96875 46.921875 20.515625 \n",
       "Q 46.921875 27.09375 42.890625 30.859375 \n",
       "Q 38.875 34.625 31.78125 34.625 \n",
       "M 21.921875 38.8125 \n",
       "Q 15.578125 40.375 12.03125 44.71875 \n",
       "Q 8.5 49.078125 8.5 55.328125 \n",
       "Q 8.5 64.0625 14.71875 69.140625 \n",
       "Q 20.953125 74.21875 31.78125 74.21875 \n",
       "Q 42.671875 74.21875 48.875 69.140625 \n",
       "Q 55.078125 64.0625 55.078125 55.328125 \n",
       "Q 55.078125 49.078125 51.53125 44.71875 \n",
       "Q 48 40.375 41.703125 38.8125 \n",
       "Q 48.828125 37.15625 52.796875 32.3125 \n",
       "Q 56.78125 27.484375 56.78125 20.515625 \n",
       "Q 56.78125 9.90625 50.3125 4.234375 \n",
       "Q 43.84375 -1.421875 31.78125 -1.421875 \n",
       "Q 19.734375 -1.421875 13.25 4.234375 \n",
       "Q 6.78125 9.90625 6.78125 20.515625 \n",
       "Q 6.78125 27.484375 10.78125 32.3125 \n",
       "Q 14.796875 37.15625 21.921875 38.8125 \n",
       "M 18.3125 54.390625 \n",
       "Q 18.3125 48.734375 21.84375 45.5625 \n",
       "Q 25.390625 42.390625 31.78125 42.390625 \n",
       "Q 38.140625 42.390625 41.71875 45.5625 \n",
       "Q 45.3125 48.734375 45.3125 54.390625 \n",
       "Q 45.3125 60.0625 41.71875 63.234375 \n",
       "Q 38.140625 66.40625 31.78125 66.40625 \n",
       "Q 25.390625 66.40625 21.84375 63.234375 \n",
       "Q 18.3125 60.0625 18.3125 54.390625 \n",
       "\" id=\"BitstreamVeraSans-Roman-38\"/>\n",
       "      </defs>\n",
       "      <g transform=\"translate(258.655334554 246.688898136)scale(0.1 -0.1)\">\n",
       "       <use xlink:href=\"#BitstreamVeraSans-Roman-38\"/>\n",
       "       <use x=\"63.623046875\" xlink:href=\"#BitstreamVeraSans-Roman-30\"/>\n",
       "       <use x=\"127.24609375\" xlink:href=\"#BitstreamVeraSans-Roman-30\"/>\n",
       "      </g>\n",
       "     </g>\n",
       "    </g>\n",
       "    <g id=\"xtick_6\">\n",
       "     <g id=\"line2d_11\">\n",
       "      <g>\n",
       "       <use style=\"stroke:#000000;stroke-width:0.5;\" x=\"327.639830226\" xlink:href=\"#m06a35ce59e\" y=\"235.090460636\"/>\n",
       "      </g>\n",
       "     </g>\n",
       "     <g id=\"line2d_12\">\n",
       "      <g>\n",
       "       <use style=\"stroke:#000000;stroke-width:0.5;\" x=\"327.639830226\" xlink:href=\"#md7e36806af\" y=\"11.8904606358\"/>\n",
       "      </g>\n",
       "     </g>\n",
       "     <g id=\"text_6\">\n",
       "      <!-- 1000 -->\n",
       "      <defs>\n",
       "       <path d=\"M 12.40625 8.296875 \n",
       "L 28.515625 8.296875 \n",
       "L 28.515625 63.921875 \n",
       "L 10.984375 60.40625 \n",
       "L 10.984375 69.390625 \n",
       "L 28.421875 72.90625 \n",
       "L 38.28125 72.90625 \n",
       "L 38.28125 8.296875 \n",
       "L 54.390625 8.296875 \n",
       "L 54.390625 0 \n",
       "L 12.40625 0 \n",
       "z\n",
       "\" id=\"BitstreamVeraSans-Roman-31\"/>\n",
       "      </defs>\n",
       "      <g transform=\"translate(314.914830226 246.688898136)scale(0.1 -0.1)\">\n",
       "       <use xlink:href=\"#BitstreamVeraSans-Roman-31\"/>\n",
       "       <use x=\"63.623046875\" xlink:href=\"#BitstreamVeraSans-Roman-30\"/>\n",
       "       <use x=\"127.24609375\" xlink:href=\"#BitstreamVeraSans-Roman-30\"/>\n",
       "       <use x=\"190.869140625\" xlink:href=\"#BitstreamVeraSans-Roman-30\"/>\n",
       "      </g>\n",
       "     </g>\n",
       "    </g>\n",
       "   </g>\n",
       "   <g id=\"matplotlib.axis_2\">\n",
       "    <g id=\"ytick_1\">\n",
       "     <g id=\"line2d_13\">\n",
       "      <defs>\n",
       "       <path d=\"M 0 0 \n",
       "L 4 0 \n",
       "\" id=\"m3ca3e03507\" style=\"stroke:#000000;stroke-width:0.5;\"/>\n",
       "      </defs>\n",
       "      <g>\n",
       "       <use style=\"stroke:#000000;stroke-width:0.5;\" x=\"30.2875\" xlink:href=\"#m3ca3e03507\" y=\"12.0390625\"/>\n",
       "      </g>\n",
       "     </g>\n",
       "     <g id=\"line2d_14\">\n",
       "      <defs>\n",
       "       <path d=\"M 0 0 \n",
       "L -4 0 \n",
       "\" id=\"mcdcdcdfc07\" style=\"stroke:#000000;stroke-width:0.5;\"/>\n",
       "      </defs>\n",
       "      <g>\n",
       "       <use style=\"stroke:#000000;stroke-width:0.5;\" x=\"328.085635819\" xlink:href=\"#mcdcdcdfc07\" y=\"12.0390625\"/>\n",
       "      </g>\n",
       "     </g>\n",
       "     <g id=\"text_7\">\n",
       "      <!-- 0 -->\n",
       "      <g transform=\"translate(19.925 14.7984375)scale(0.1 -0.1)\">\n",
       "       <use xlink:href=\"#BitstreamVeraSans-Roman-30\"/>\n",
       "      </g>\n",
       "     </g>\n",
       "    </g>\n",
       "    <g id=\"ytick_2\">\n",
       "     <g id=\"line2d_15\">\n",
       "      <g>\n",
       "       <use style=\"stroke:#000000;stroke-width:0.5;\" x=\"30.2875\" xlink:href=\"#m3ca3e03507\" y=\"41.7594353362\"/>\n",
       "      </g>\n",
       "     </g>\n",
       "     <g id=\"line2d_16\">\n",
       "      <g>\n",
       "       <use style=\"stroke:#000000;stroke-width:0.5;\" x=\"328.085635819\" xlink:href=\"#mcdcdcdfc07\" y=\"41.7594353362\"/>\n",
       "      </g>\n",
       "     </g>\n",
       "     <g id=\"text_8\">\n",
       "      <!-- 100 -->\n",
       "      <g transform=\"translate(7.2 44.5188103362)scale(0.1 -0.1)\">\n",
       "       <use xlink:href=\"#BitstreamVeraSans-Roman-31\"/>\n",
       "       <use x=\"63.623046875\" xlink:href=\"#BitstreamVeraSans-Roman-30\"/>\n",
       "       <use x=\"127.24609375\" xlink:href=\"#BitstreamVeraSans-Roman-30\"/>\n",
       "      </g>\n",
       "     </g>\n",
       "    </g>\n",
       "    <g id=\"ytick_3\">\n",
       "     <g id=\"line2d_17\">\n",
       "      <g>\n",
       "       <use style=\"stroke:#000000;stroke-width:0.5;\" x=\"30.2875\" xlink:href=\"#m3ca3e03507\" y=\"71.4798081724\"/>\n",
       "      </g>\n",
       "     </g>\n",
       "     <g id=\"line2d_18\">\n",
       "      <g>\n",
       "       <use style=\"stroke:#000000;stroke-width:0.5;\" x=\"328.085635819\" xlink:href=\"#mcdcdcdfc07\" y=\"71.4798081724\"/>\n",
       "      </g>\n",
       "     </g>\n",
       "     <g id=\"text_9\">\n",
       "      <!-- 200 -->\n",
       "      <g transform=\"translate(7.2 74.2391831724)scale(0.1 -0.1)\">\n",
       "       <use xlink:href=\"#BitstreamVeraSans-Roman-32\"/>\n",
       "       <use x=\"63.623046875\" xlink:href=\"#BitstreamVeraSans-Roman-30\"/>\n",
       "       <use x=\"127.24609375\" xlink:href=\"#BitstreamVeraSans-Roman-30\"/>\n",
       "      </g>\n",
       "     </g>\n",
       "    </g>\n",
       "    <g id=\"ytick_4\">\n",
       "     <g id=\"line2d_19\">\n",
       "      <g>\n",
       "       <use style=\"stroke:#000000;stroke-width:0.5;\" x=\"30.2875\" xlink:href=\"#m3ca3e03507\" y=\"101.200181009\"/>\n",
       "      </g>\n",
       "     </g>\n",
       "     <g id=\"line2d_20\">\n",
       "      <g>\n",
       "       <use style=\"stroke:#000000;stroke-width:0.5;\" x=\"328.085635819\" xlink:href=\"#mcdcdcdfc07\" y=\"101.200181009\"/>\n",
       "      </g>\n",
       "     </g>\n",
       "     <g id=\"text_10\">\n",
       "      <!-- 300 -->\n",
       "      <defs>\n",
       "       <path d=\"M 40.578125 39.3125 \n",
       "Q 47.65625 37.796875 51.625 33 \n",
       "Q 55.609375 28.21875 55.609375 21.1875 \n",
       "Q 55.609375 10.40625 48.1875 4.484375 \n",
       "Q 40.765625 -1.421875 27.09375 -1.421875 \n",
       "Q 22.515625 -1.421875 17.65625 -0.515625 \n",
       "Q 12.796875 0.390625 7.625 2.203125 \n",
       "L 7.625 11.71875 \n",
       "Q 11.71875 9.328125 16.59375 8.109375 \n",
       "Q 21.484375 6.890625 26.8125 6.890625 \n",
       "Q 36.078125 6.890625 40.9375 10.546875 \n",
       "Q 45.796875 14.203125 45.796875 21.1875 \n",
       "Q 45.796875 27.640625 41.28125 31.265625 \n",
       "Q 36.765625 34.90625 28.71875 34.90625 \n",
       "L 20.21875 34.90625 \n",
       "L 20.21875 43.015625 \n",
       "L 29.109375 43.015625 \n",
       "Q 36.375 43.015625 40.234375 45.921875 \n",
       "Q 44.09375 48.828125 44.09375 54.296875 \n",
       "Q 44.09375 59.90625 40.109375 62.90625 \n",
       "Q 36.140625 65.921875 28.71875 65.921875 \n",
       "Q 24.65625 65.921875 20.015625 65.03125 \n",
       "Q 15.375 64.15625 9.8125 62.3125 \n",
       "L 9.8125 71.09375 \n",
       "Q 15.4375 72.65625 20.34375 73.4375 \n",
       "Q 25.25 74.21875 29.59375 74.21875 \n",
       "Q 40.828125 74.21875 47.359375 69.109375 \n",
       "Q 53.90625 64.015625 53.90625 55.328125 \n",
       "Q 53.90625 49.265625 50.4375 45.09375 \n",
       "Q 46.96875 40.921875 40.578125 39.3125 \n",
       "\" id=\"BitstreamVeraSans-Roman-33\"/>\n",
       "      </defs>\n",
       "      <g transform=\"translate(7.2 103.959556009)scale(0.1 -0.1)\">\n",
       "       <use xlink:href=\"#BitstreamVeraSans-Roman-33\"/>\n",
       "       <use x=\"63.623046875\" xlink:href=\"#BitstreamVeraSans-Roman-30\"/>\n",
       "       <use x=\"127.24609375\" xlink:href=\"#BitstreamVeraSans-Roman-30\"/>\n",
       "      </g>\n",
       "     </g>\n",
       "    </g>\n",
       "    <g id=\"ytick_5\">\n",
       "     <g id=\"line2d_21\">\n",
       "      <g>\n",
       "       <use style=\"stroke:#000000;stroke-width:0.5;\" x=\"30.2875\" xlink:href=\"#m3ca3e03507\" y=\"130.920553845\"/>\n",
       "      </g>\n",
       "     </g>\n",
       "     <g id=\"line2d_22\">\n",
       "      <g>\n",
       "       <use style=\"stroke:#000000;stroke-width:0.5;\" x=\"328.085635819\" xlink:href=\"#mcdcdcdfc07\" y=\"130.920553845\"/>\n",
       "      </g>\n",
       "     </g>\n",
       "     <g id=\"text_11\">\n",
       "      <!-- 400 -->\n",
       "      <g transform=\"translate(7.2 133.679928845)scale(0.1 -0.1)\">\n",
       "       <use xlink:href=\"#BitstreamVeraSans-Roman-34\"/>\n",
       "       <use x=\"63.623046875\" xlink:href=\"#BitstreamVeraSans-Roman-30\"/>\n",
       "       <use x=\"127.24609375\" xlink:href=\"#BitstreamVeraSans-Roman-30\"/>\n",
       "      </g>\n",
       "     </g>\n",
       "    </g>\n",
       "    <g id=\"ytick_6\">\n",
       "     <g id=\"line2d_23\">\n",
       "      <g>\n",
       "       <use style=\"stroke:#000000;stroke-width:0.5;\" x=\"30.2875\" xlink:href=\"#m3ca3e03507\" y=\"160.640926681\"/>\n",
       "      </g>\n",
       "     </g>\n",
       "     <g id=\"line2d_24\">\n",
       "      <g>\n",
       "       <use style=\"stroke:#000000;stroke-width:0.5;\" x=\"328.085635819\" xlink:href=\"#mcdcdcdfc07\" y=\"160.640926681\"/>\n",
       "      </g>\n",
       "     </g>\n",
       "     <g id=\"text_12\">\n",
       "      <!-- 500 -->\n",
       "      <defs>\n",
       "       <path d=\"M 10.796875 72.90625 \n",
       "L 49.515625 72.90625 \n",
       "L 49.515625 64.59375 \n",
       "L 19.828125 64.59375 \n",
       "L 19.828125 46.734375 \n",
       "Q 21.96875 47.46875 24.109375 47.828125 \n",
       "Q 26.265625 48.1875 28.421875 48.1875 \n",
       "Q 40.625 48.1875 47.75 41.5 \n",
       "Q 54.890625 34.8125 54.890625 23.390625 \n",
       "Q 54.890625 11.625 47.5625 5.09375 \n",
       "Q 40.234375 -1.421875 26.90625 -1.421875 \n",
       "Q 22.3125 -1.421875 17.546875 -0.640625 \n",
       "Q 12.796875 0.140625 7.71875 1.703125 \n",
       "L 7.71875 11.625 \n",
       "Q 12.109375 9.234375 16.796875 8.0625 \n",
       "Q 21.484375 6.890625 26.703125 6.890625 \n",
       "Q 35.15625 6.890625 40.078125 11.328125 \n",
       "Q 45.015625 15.765625 45.015625 23.390625 \n",
       "Q 45.015625 31 40.078125 35.4375 \n",
       "Q 35.15625 39.890625 26.703125 39.890625 \n",
       "Q 22.75 39.890625 18.8125 39.015625 \n",
       "Q 14.890625 38.140625 10.796875 36.28125 \n",
       "z\n",
       "\" id=\"BitstreamVeraSans-Roman-35\"/>\n",
       "      </defs>\n",
       "      <g transform=\"translate(7.2 163.400301681)scale(0.1 -0.1)\">\n",
       "       <use xlink:href=\"#BitstreamVeraSans-Roman-35\"/>\n",
       "       <use x=\"63.623046875\" xlink:href=\"#BitstreamVeraSans-Roman-30\"/>\n",
       "       <use x=\"127.24609375\" xlink:href=\"#BitstreamVeraSans-Roman-30\"/>\n",
       "      </g>\n",
       "     </g>\n",
       "    </g>\n",
       "    <g id=\"ytick_7\">\n",
       "     <g id=\"line2d_25\">\n",
       "      <g>\n",
       "       <use style=\"stroke:#000000;stroke-width:0.5;\" x=\"30.2875\" xlink:href=\"#m3ca3e03507\" y=\"190.361299517\"/>\n",
       "      </g>\n",
       "     </g>\n",
       "     <g id=\"line2d_26\">\n",
       "      <g>\n",
       "       <use style=\"stroke:#000000;stroke-width:0.5;\" x=\"328.085635819\" xlink:href=\"#mcdcdcdfc07\" y=\"190.361299517\"/>\n",
       "      </g>\n",
       "     </g>\n",
       "     <g id=\"text_13\">\n",
       "      <!-- 600 -->\n",
       "      <g transform=\"translate(7.2 193.120674517)scale(0.1 -0.1)\">\n",
       "       <use xlink:href=\"#BitstreamVeraSans-Roman-36\"/>\n",
       "       <use x=\"63.623046875\" xlink:href=\"#BitstreamVeraSans-Roman-30\"/>\n",
       "       <use x=\"127.24609375\" xlink:href=\"#BitstreamVeraSans-Roman-30\"/>\n",
       "      </g>\n",
       "     </g>\n",
       "    </g>\n",
       "    <g id=\"ytick_8\">\n",
       "     <g id=\"line2d_27\">\n",
       "      <g>\n",
       "       <use style=\"stroke:#000000;stroke-width:0.5;\" x=\"30.2875\" xlink:href=\"#m3ca3e03507\" y=\"220.081672354\"/>\n",
       "      </g>\n",
       "     </g>\n",
       "     <g id=\"line2d_28\">\n",
       "      <g>\n",
       "       <use style=\"stroke:#000000;stroke-width:0.5;\" x=\"328.085635819\" xlink:href=\"#mcdcdcdfc07\" y=\"220.081672354\"/>\n",
       "      </g>\n",
       "     </g>\n",
       "     <g id=\"text_14\">\n",
       "      <!-- 700 -->\n",
       "      <defs>\n",
       "       <path d=\"M 8.203125 72.90625 \n",
       "L 55.078125 72.90625 \n",
       "L 55.078125 68.703125 \n",
       "L 28.609375 0 \n",
       "L 18.3125 0 \n",
       "L 43.21875 64.59375 \n",
       "L 8.203125 64.59375 \n",
       "z\n",
       "\" id=\"BitstreamVeraSans-Roman-37\"/>\n",
       "      </defs>\n",
       "      <g transform=\"translate(7.2 222.841047354)scale(0.1 -0.1)\">\n",
       "       <use xlink:href=\"#BitstreamVeraSans-Roman-37\"/>\n",
       "       <use x=\"63.623046875\" xlink:href=\"#BitstreamVeraSans-Roman-30\"/>\n",
       "       <use x=\"127.24609375\" xlink:href=\"#BitstreamVeraSans-Roman-30\"/>\n",
       "      </g>\n",
       "     </g>\n",
       "    </g>\n",
       "   </g>\n",
       "  </g>\n",
       " </g>\n",
       " <defs>\n",
       "  <clipPath id=\"p7464988945\">\n",
       "   <rect height=\"223.2\" width=\"297.798135819\" x=\"30.2875\" y=\"11.8904606358\"/>\n",
       "  </clipPath>\n",
       " </defs>\n",
       "</svg>\n"
      ],
      "text/plain": [
       "<matplotlib.figure.Figure at 0x10b792390>"
      ]
     },
     "metadata": {},
     "output_type": "display_data"
    }
   ],
   "source": [
    "plt.imshow(heatmap)"
   ]
  },
  {
   "cell_type": "markdown",
   "metadata": {},
   "source": [
    "## Use NumPy to interpolate picks and generate heatmap"
   ]
  },
  {
   "cell_type": "code",
   "execution_count": null,
   "metadata": {
    "collapsed": false
   },
   "outputs": [],
   "source": [
    "for i, pick in enumerate(picks):\n",
    "    if np.array(pick.picks).ndim==2:\n",
    "        x, y, g = np.array(pick.picks)[:,0], np.array(pick.picks)[:,1], np.array(pick.picks)[:,2]\n",
    "        plt.plot(x,y,alpha=0.1)\n",
    "        plt.ylim([600,0])\n",
    "        plt.xlim([0,1000])"
   ]
  },
  {
   "cell_type": "markdown",
   "metadata": {},
   "source": [
    "## Use Shapely and Rasterio to generate heatmap"
   ]
  },
  {
   "cell_type": "code",
   "execution_count": 62,
   "metadata": {
    "collapsed": false
   },
   "outputs": [],
   "source": [
    "from shapely.geometry import Polygon, MultiPolygon\n",
    "from shapely.geometry.linestring import LineString\n",
    "from shapely.geometry.multilinestring import MultiLineString\n",
    "from rasterio import features"
   ]
  },
  {
   "cell_type": "code",
   "execution_count": 63,
   "metadata": {
    "collapsed": false
   },
   "outputs": [],
   "source": [
    "def apply_buffer(row, buffer=1):\n",
    "    r = np.array(row)\n",
    "    these_lines = []\n",
    "    if r.shape[-1] == 2:\n",
    "        cohort = np.ones((r.shape[0]))\n",
    "        groups = cohort\n",
    "    if r.shape[-1] == 3:\n",
    "        groups = r[:,2]\n",
    "    for group in np.unique(groups):\n",
    "        this_line = r[groups==group][:, :2]\n",
    "        if len(this_line) > 1:\n",
    "            these_lines.append(LineString(this_line).buffer(buffer))\n",
    "        else:  # single point, discard\n",
    "            continue\n",
    "    return MultiPolygon(these_lines)\n",
    "\n",
    "def apply_no_buffer(row):\n",
    "    r = np.array(row)\n",
    "    these_lines = []\n",
    "    if r.shape[-1] == 2:\n",
    "        cohort = np.ones((r.shape[0]))\n",
    "        groups = cohort\n",
    "    if r.shape[-1] == 3:\n",
    "        groups = r[:,2]\n",
    "    for group in np.unique(groups):\n",
    "        this_line = r[groups==group][:, :2]\n",
    "        if len(this_line) > 1:\n",
    "            these_lines.append(LineString(this_line))\n",
    "        else:  # single point, discard\n",
    "            continue\n",
    "    return MultiLineString(these_lines)"
   ]
  },
  {
   "cell_type": "code",
   "execution_count": 64,
   "metadata": {
    "collapsed": false
   },
   "outputs": [],
   "source": [
    "def shapely_heatmap(image_size, picks, weights=None, do_buffer=True, buffer=5):\n",
    "    \"\"\"\n",
    "    returns a heatmap the same size as the test image\n",
    "    \"\"\"\n",
    "    weights = weights or np.ones((len(picks)))\n",
    "    heatmap = np.zeros(image_size)\n",
    "    shapes = []\n",
    "    for p, w in zip(picks, weights):\n",
    "        if len(p.picks) != 0:\n",
    "            if do_buffer:\n",
    "                shape = apply_buffer(p.picks, buffer)\n",
    "                shapes.append((shape, w))  \n",
    "            else:\n",
    "                shape = apply_no_buffer(p.picks)\n",
    "                shapes.append((shape, w))  \n",
    "    for i, _ in enumerate(shapes):\n",
    "        heatmap += features.rasterize(shapes[i:i+1],\n",
    "                                      out_shape=heatmap.shape,\n",
    "                                      all_touched=True)\n",
    "    return heatmap"
   ]
  },
  {
   "cell_type": "code",
   "execution_count": 65,
   "metadata": {
    "collapsed": false
   },
   "outputs": [
    {
     "name": "stdout",
     "output_type": "stream",
     "text": [
      "1 loops, best of 3: 593 ms per loop\n"
     ]
    }
   ],
   "source": [
    "%timeit shapely_heatmap(np.shape(img.image())[:2], picks, do_buffer=False, buffer=1)"
   ]
  },
  {
   "cell_type": "code",
   "execution_count": null,
   "metadata": {
    "collapsed": false
   },
   "outputs": [],
   "source": [
    "def _check_valid_mode_shapes(shape1, shape2):\n",
    "    for d1, d2 in zip(shape1, shape2):\n",
    "        if not d1 >= d2:\n",
    "            raise ValueError(\n",
    "                \"in1 should have at least as many items as in2 in \"\n",
    "                \"every dimension for 'valid' mode.\")\n",
    "\n",
    "def _centered(arr, newsize):\n",
    "    # Return the center newsize portion of the array.\n",
    "    newsize = np.asarray(newsize)\n",
    "    currsize = np.array(arr.shape)\n",
    "    startind = (currsize - newsize) // 2\n",
    "    endind = startind + newsize\n",
    "    myslice = [slice(startind[k], endind[k]) for k in range(len(endind))]\n",
    "    return arr[tuple(myslice)]\n",
    "\n",
    "def _next_regular(target):\n",
    "    \"\"\"\n",
    "    Find the next regular number greater than or equal to target.\n",
    "    Regular numbers are composites of the prime factors 2, 3, and 5.\n",
    "    Also known as 5-smooth numbers or Hamming numbers, these are the optimal\n",
    "    size for inputs to FFTPACK.\n",
    "    Target must be a positive integer.\n",
    "    \"\"\"\n",
    "    if target <= 6:\n",
    "        return target\n",
    "\n",
    "    # Quickly check if it's already a power of 2\n",
    "    if not (target & (target-1)):\n",
    "        return target\n",
    "\n",
    "    match = float('inf')  # Anything found will be smaller\n",
    "    p5 = 1\n",
    "    while p5 < target:\n",
    "        p35 = p5\n",
    "        while p35 < target:\n",
    "            # Ceiling integer division, avoiding conversion to float\n",
    "            # (quotient = ceil(target / p35))\n",
    "            quotient = -(-target // p35)\n",
    "\n",
    "            # Quickly find next power of 2 >= quotient\n",
    "            try:\n",
    "                p2 = 2**((quotient - 1).bit_length())\n",
    "            except AttributeError:\n",
    "                # Fallback for Python <2.7\n",
    "                p2 = 2**(len(bin(quotient - 1)) - 2)\n",
    "\n",
    "            N = p2 * p35\n",
    "            if N == target:\n",
    "                return N\n",
    "            elif N < match:\n",
    "                match = N\n",
    "            p35 *= 3\n",
    "            if p35 == target:\n",
    "                return p35\n",
    "        if p35 < match:\n",
    "            match = p35\n",
    "        p5 *= 5\n",
    "        if p5 == target:\n",
    "            return p5\n",
    "    if p5 < match:\n",
    "        match = p5\n",
    "    return match\n",
    "\n",
    "def my_fft_convolve(in1, in2, mode='full'):\n",
    "    \"\"\"\n",
    "    Returns the output of the heatmap convolved with a smoothing kernel. \n",
    "    The only dependency used is NumPy\n",
    "    heatmap : 2-dimensional NumPy array size: (m, n)\n",
    "    kernel : 2-d NumPy array size: (p, q)\n",
    "    \"\"\"\n",
    "    in1 = np.asarray(in1)\n",
    "    in2 = np.asarray(in2)\n",
    "\n",
    "    if in1.ndim == in2.ndim == 0:  # scalar inputs\n",
    "        return in1 * in2\n",
    "    elif not in1.ndim == in2.ndim:\n",
    "        raise ValueError(\"in1 and in2 should have the same dimensionality\")\n",
    "    elif in1.size == 0 or in2.size == 0:  # empty arrays\n",
    "        return array([])\n",
    "\n",
    "    s1 = np.array(in1.shape)\n",
    "    s2 = np.array(in2.shape)\n",
    "    complex_result = (np.issubdtype(in1.dtype, np.complex) or\n",
    "                      np.issubdtype(in2.dtype, np.complex))\n",
    "    shape = s1 + s2 - 1\n",
    "\n",
    "    if mode == \"valid\":\n",
    "        _check_valid_mode_shapes(s1, s2)\n",
    "\n",
    "    # Speed up FFT by padding to optimal size for FFTPACK\n",
    "    fshape = [_next_regular(int(d)) for d in shape]\n",
    "    fslice = tuple([slice(0, int(sz)) for sz in shape])\n",
    "    # Pre-1.9 NumPy FFT routines are not threadsafe.  For older NumPys, make\n",
    "    # sure we only call rfftn/irfftn from one thread at a time.\n",
    "    if not complex_result:\n",
    "        ret = irfftn(rfftn(in1, fshape) *\n",
    "                         rfftn(in2, fshape), fshape)[fslice].copy()\n",
    "    else:\n",
    "        # If we're here, it's either because we need a complex result, or we\n",
    "        # failed to acquire _rfft_lock (meaning rfftn isn't threadsafe and\n",
    "        # is already in use by another thread).  In either case, use the\n",
    "        # (threadsafe but slower) SciPy complex-FFT routines instead.\n",
    "        ret = ifftn(fftn(in1, fshape) * fftn(in2, fshape))[fslice].copy()\n",
    "        if not complex_result:\n",
    "            ret = ret.real\n",
    "\n",
    "    if mode == \"full\":\n",
    "        return ret\n",
    "    elif mode == \"same\":\n",
    "        return _centered(ret, s1)\n",
    "    elif mode == \"valid\":\n",
    "        return _centered(ret, s1 - s2 + 1)\n",
    "    else:\n",
    "        raise ValueError(\"Acceptable mode flags are 'valid',\"\n",
    "                         \" 'same', or 'full'.\")\n",
    "\n",
    "def kernel(i,j,n):\n",
    "    return n*np.ones((i,j))/(i*j)\n",
    "\n",
    "def gaussian_kernel(size, size_y=None):\n",
    "    size = int(size)\n",
    "    if not size_y:\n",
    "        size_y = size\n",
    "    else:\n",
    "        size_y = int(size_y)\n",
    "    x, y = np.mgrid[-size:size+1, -size_y:size_y+1]\n",
    "    g = np.exp(-(x**2/float(size)+y**2/float(size_y)))\n",
    "    return g #/ g.sum()\n",
    "\n",
    "# Make the Gaussian by calling the function\n",
    "gaussian_kernel_array = gaussian_kernel(5)"
   ]
  },
  {
   "cell_type": "code",
   "execution_count": 67,
   "metadata": {
    "collapsed": false,
    "scrolled": true
   },
   "outputs": [
    {
     "ename": "NameError",
     "evalue": "name 'aspect' is not defined",
     "output_type": "error",
     "traceback": [
      "\u001b[0;31m---------------------------------------------------------------------------\u001b[0m",
      "\u001b[0;31mNameError\u001b[0m                                 Traceback (most recent call last)",
      "\u001b[0;32m<ipython-input-67-49b6df77edcd>\u001b[0m in \u001b[0;36mdraw_heatmap\u001b[0;34m(i, j, k)\u001b[0m\n\u001b[1;32m      3\u001b[0m \u001b[0;32mdef\u001b[0m \u001b[0mdraw_heatmap\u001b[0m\u001b[0;34m(\u001b[0m\u001b[0mi\u001b[0m\u001b[0;34m=\u001b[0m\u001b[0;36m3\u001b[0m\u001b[0;34m,\u001b[0m\u001b[0mj\u001b[0m\u001b[0;34m=\u001b[0m\u001b[0;36m1.0\u001b[0m\u001b[0;34m,\u001b[0m \u001b[0mk\u001b[0m\u001b[0;34m=\u001b[0m\u001b[0;36m0.5\u001b[0m\u001b[0;34m)\u001b[0m\u001b[0;34m:\u001b[0m\u001b[0;34m\u001b[0m\u001b[0m\n\u001b[1;32m      4\u001b[0m     \u001b[0mstart\u001b[0m \u001b[0;34m=\u001b[0m \u001b[0mtime\u001b[0m\u001b[0;34m.\u001b[0m\u001b[0mtime\u001b[0m\u001b[0;34m(\u001b[0m\u001b[0;34m)\u001b[0m\u001b[0;34m\u001b[0m\u001b[0m\n\u001b[0;32m----> 5\u001b[0;31m     \u001b[0mheatmap\u001b[0m \u001b[0;34m=\u001b[0m \u001b[0mshapely_heatmap\u001b[0m\u001b[0;34m(\u001b[0m\u001b[0;34m(\u001b[0m\u001b[0mdx\u001b[0m\u001b[0;34m*\u001b[0m\u001b[0maspect\u001b[0m\u001b[0;34m,\u001b[0m\u001b[0mdx\u001b[0m\u001b[0;34m)\u001b[0m\u001b[0;34m,\u001b[0m \u001b[0mpicks\u001b[0m\u001b[0;34m,\u001b[0m \u001b[0mbuffer\u001b[0m\u001b[0;34m=\u001b[0m\u001b[0;36m0.1\u001b[0m\u001b[0;34m)\u001b[0m\u001b[0;34m\u001b[0m\u001b[0m\n\u001b[0m\u001b[1;32m      6\u001b[0m     \u001b[0mheatmap\u001b[0m\u001b[0;34m[\u001b[0m\u001b[0mheatmap\u001b[0m \u001b[0;34m<=\u001b[0m \u001b[0;36m0\u001b[0m\u001b[0;34m]\u001b[0m \u001b[0;34m=\u001b[0m \u001b[0mnp\u001b[0m\u001b[0;34m.\u001b[0m\u001b[0mnan\u001b[0m\u001b[0;34m\u001b[0m\u001b[0m\n\u001b[1;32m      7\u001b[0m     \u001b[0mplt\u001b[0m\u001b[0;34m.\u001b[0m\u001b[0mfigure\u001b[0m\u001b[0;34m(\u001b[0m\u001b[0mfigsize\u001b[0m\u001b[0;34m=\u001b[0m\u001b[0;34m(\u001b[0m\u001b[0;36m15\u001b[0m\u001b[0;34m,\u001b[0m\u001b[0;36m10\u001b[0m\u001b[0;34m)\u001b[0m\u001b[0;34m)\u001b[0m\u001b[0;34m\u001b[0m\u001b[0m\n",
      "\u001b[0;31mNameError\u001b[0m: name 'aspect' is not defined"
     ]
    }
   ],
   "source": [
    "dx = 1000\n",
    "aspect = img.image\n",
    "@interact(i=(1,7), j=(0.0,1.0), k=(0.0,1.0))\n",
    "def draw_heatmap(i=3,j=1.0, k=0.5):\n",
    "    start = time.time()\n",
    "    heatmap = shapely_heatmap((dx*aspect,dx), picks, buffer=0.1)\n",
    "    heatmap[heatmap <= 0] = np.nan\n",
    "    plt.figure(figsize=(15,10))\n",
    "    plt.imshow(img.image(), alpha=k, extent=[0,dx,dx/aspect,0])\n",
    "    plt.imshow(heatmap, cmap='hot', clim=([0,1000]), alpha=j)\n",
    "    plt.colorbar(shrink=0.5)\n",
    "    end = time.time()\n",
    "    elapsed = end - start\n",
    "    print(\"Time taken to make heatmap: {:.2f} seconds.\".format(elapsed))\n"
   ]
  },
  {
   "cell_type": "markdown",
   "metadata": {},
   "source": [
    "## Heatmap generation using NumPy simple 2-D convolutional smoothing"
   ]
  },
  {
   "cell_type": "code",
   "execution_count": null,
   "metadata": {
    "collapsed": false
   },
   "outputs": [],
   "source": [
    "thresh = 1.0\n",
    "ksz = 1.0\n",
    "kernel = gaussian_kernel(ksz)\n",
    "out = my_fft_convolve(heatmap, kernel, mode='same')\n",
    "out[out <= thresh] = np.nan\n",
    "\n",
    "fig = plt.figure(figsize=(14,9))\n",
    "plt.imshow(out, cmap=hot)\n",
    "plt.colorbar()"
   ]
  },
  {
   "cell_type": "code",
   "execution_count": null,
   "metadata": {
    "collapsed": false
   },
   "outputs": [],
   "source": [
    "dx = 1000\n",
    "\n",
    "@interact(i=(1,20), threshold=(0,20), n=(0.0,64.0))\n",
    "def make_heatmap(i=2,threshold=1, n=1):\n",
    "    start = time.time()\n",
    "    heatmap = heatmapNumPy\n",
    "    kernel = gaussian_kernel(i)\n",
    "    out = my_fft_convolve(heatmap, n*kernel, mode='same')\n",
    "    out[out <= threshold] = np.nan\n",
    "    fig = plt.figure(figsize=(14,9))\n",
    "    ax = fig.add_subplot(111)\n",
    "    ax.imshow(img.image(), alpha=0.5, extent=[0,dx,dx/aspect,0])\n",
    "    ax.imshow(out, alpha=0.5, cmap='hot', clim=[0,50])\n",
    "    end = time.time()\n",
    "    elapsed = end - start\n",
    "    print(\"Time taken to make heatmap: {:.2f} seconds.\".format(elapsed))"
   ]
  },
  {
   "cell_type": "markdown",
   "metadata": {},
   "source": [
    "## Heatmap generation by buffering MultiLineStrings into MultiPolygons using Shapely"
   ]
  },
  {
   "cell_type": "markdown",
   "metadata": {
    "collapsed": true
   },
   "source": [
    "## Getting the image"
   ]
  },
  {
   "cell_type": "code",
   "execution_count": null,
   "metadata": {
    "collapsed": false
   },
   "outputs": [],
   "source": [
    "p.loc[images['image_id']==image_id]"
   ]
  },
  {
   "cell_type": "code",
   "execution_count": null,
   "metadata": {
    "collapsed": false
   },
   "outputs": [],
   "source": [
    "link = images.loc[images['image_id']==image_id].link[2]\n",
    "IPImage(url=link)"
   ]
  },
  {
   "cell_type": "markdown",
   "metadata": {},
   "source": [
    "## Put it all together"
   ]
  },
  {
   "cell_type": "code",
   "execution_count": null,
   "metadata": {
    "collapsed": false
   },
   "outputs": [],
   "source": [
    "import urllib\n",
    "from PIL import Image"
   ]
  },
  {
   "cell_type": "code",
   "execution_count": null,
   "metadata": {
    "collapsed": false
   },
   "outputs": [],
   "source": [
    "# Get the image\n",
    "link = images.loc[images['image_id']==image_id].link[2]\n",
    "f = urllib.request.urlopen(link)\n",
    "img = Image.open(f)\n",
    "\n",
    "plt.figure(figsize=(12,8))\n",
    "plt.imshow(img)\n",
    "\n",
    "for line in these_lines:\n",
    "    x, y = line.xy\n",
    "    plt.plot(x, y, color='k', lw=3, alpha=0.75)\n",
    "\n",
    "plt.show()"
   ]
  },
  {
   "cell_type": "code",
   "execution_count": null,
   "metadata": {
    "collapsed": false
   },
   "outputs": [],
   "source": [
    "x, y = mls[0].xy\n",
    "plt.plot(x, y)"
   ]
  },
  {
   "cell_type": "code",
   "execution_count": null,
   "metadata": {
    "collapsed": false
   },
   "outputs": [],
   "source": [
    "h = images.loc[images['image_id']==image_id].height[2]\n",
    "w = images.loc[images['image_id']==image_id].width[2]\n",
    "h, w"
   ]
  },
  {
   "cell_type": "markdown",
   "metadata": {},
   "source": [
    "## Users"
   ]
  },
  {
   "cell_type": "code",
   "execution_count": null,
   "metadata": {
    "collapsed": false
   },
   "outputs": [],
   "source": [
    "u = api.users()\n",
    "u[2].__dict__"
   ]
  },
  {
   "cell_type": "markdown",
   "metadata": {},
   "source": [
    "## Picks"
   ]
  },
  {
   "cell_type": "code",
   "execution_count": null,
   "metadata": {
    "collapsed": false
   },
   "outputs": [],
   "source": [
    "image_id = 5910974510923776\n",
    "api.picks()"
   ]
  },
  {
   "cell_type": "code",
   "execution_count": null,
   "metadata": {
    "collapsed": false
   },
   "outputs": [],
   "source": [
    "picks.head()"
   ]
  },
  {
   "cell_type": "code",
   "execution_count": null,
   "metadata": {
    "collapsed": true
   },
   "outputs": [],
   "source": []
  }
 ],
 "metadata": {
  "kernelspec": {
   "display_name": "Python 3",
   "language": "python",
   "name": "python3"
  },
  "language_info": {
   "codemirror_mode": {
    "name": "ipython",
    "version": 3
   },
   "file_extension": ".py",
   "mimetype": "text/x-python",
   "name": "python",
   "nbconvert_exporter": "python",
   "pygments_lexer": "ipython3",
   "version": "3.5.0"
  }
 },
 "nbformat": 4,
 "nbformat_minor": 0
}
