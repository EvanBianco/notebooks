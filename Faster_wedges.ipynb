{
 "metadata": {
  "name": "Faster_wedges"
 },
 "nbformat": 3,
 "nbformat_minor": 0,
 "worksheets": [
  {
   "cells": [
    {
     "cell_type": "heading",
     "level": 2,
     "metadata": {},
     "source": [
      "Faster wedge"
     ]
    },
    {
     "cell_type": "markdown",
     "metadata": {},
     "source": [
      "Going to look at faster ways to make wedges."
     ]
    },
    {
     "cell_type": "code",
     "collapsed": false,
     "input": [
      "import matplotlib.pyplot as plt\n",
      "import numpy as np\n",
      "% matplotlib inline"
     ],
     "language": "python",
     "metadata": {},
     "outputs": [
      {
       "output_type": "stream",
       "stream": "stderr",
       "text": [
        "ERROR: Line magic function `%matplotlib` not found."
       ]
      }
     ],
     "prompt_number": 1
    },
    {
     "cell_type": "markdown",
     "metadata": {},
     "source": [
      "Set up the model parameters."
     ]
    },
    {
     "cell_type": "code",
     "collapsed": false,
     "input": [
      "length = 100.# x range\n",
      "width = 100. # y range\n",
      "depth = 240. # z range"
     ],
     "language": "python",
     "metadata": {},
     "outputs": [],
     "prompt_number": 2
    },
    {
     "cell_type": "markdown",
     "metadata": {},
     "source": [
      "Define the plotting function."
     ]
    },
    {
     "cell_type": "code",
     "collapsed": false,
     "input": [
      "def plot_slices(data, interpolation='nearest', cmap='Greys', vmin=0., vmax=1.):\n",
      "    plt.figure(figsize=(16,12))\n",
      "    \n",
      "    for j in range(3):\n",
      "        plt.subplot(3,4,j+1)\n",
      "        plt.title('y = ' + str(int(j*(length/3))))\n",
      "        plt.imshow(data[:,:,int(j*(length/3))], interpolation=interpolation, cmap=cmap, vmax=vmax, vmin=vmin)\n",
      "    plt.subplot(3,4,4)\n",
      "    plt.title('y = ' + str(int(length-1)))\n",
      "    plt.imshow(data[:,:,-1], interpolation=interpolation, cmap=cmap, vmax=vmax, vmin=vmin)\n",
      "    \n",
      "    for j in range(3):\n",
      "        plt.subplot(3,4,5+j)\n",
      "        plt.title('x = ' + str(int(j*(width/3))))\n",
      "        plt.imshow(data[:,int(j*(width/3)),:], interpolation=interpolation, cmap=cmap, vmax=vmax, vmin=vmin)\n",
      "    plt.subplot(3,4,8)\n",
      "    plt.title('x = ' + str(int(width-1)))\n",
      "    plt.imshow(data[:,-1,:], interpolation=interpolation, cmap=cmap, vmax=vmax, vmin=vmin)\n",
      "    \n",
      "    for j in range(3):\n",
      "        plt.subplot(3,4,9+j)\n",
      "        plt.title('z = ' + str(1 + int(1 + depth/3 + j*depth/(3*3))))\n",
      "        plt.imshow(data[1 + int(depth/3 + j*depth/(3*3)),:,:], interpolation=interpolation, cmap=cmap, vmax=vmax, vmin=vmin)\n",
      "    plt.subplot(3,4,12)\n",
      "    plt.title('z = ' + str(int(2*depth/3 - 1)))\n",
      "    plt.imshow(data[int(2*depth/3 - 1),:,:], interpolation=interpolation, cmap=cmap, vmax=vmax, vmin=vmin)\n",
      "    \n",
      "    plt.show()"
     ],
     "language": "python",
     "metadata": {},
     "outputs": [],
     "prompt_number": 3
    },
    {
     "cell_type": "heading",
     "level": 2,
     "metadata": {},
     "source": [
      "Original formulation"
     ]
    },
    {
     "cell_type": "markdown",
     "metadata": {},
     "source": [
      "Let's start with the wedge code from version 1 of <code>Spectral_wedge.ipynb</code>. The main difference is that we will need to use the rock properties directly, rather than building an array of <code>int</code>s first. "
     ]
    },
    {
     "cell_type": "code",
     "collapsed": false,
     "input": [
      "rocks = [(2800, 2850), (2800, 2850), (2400, 2450), (2400,2450)]\n",
      "\n",
      "def make_ai(rocks):\n",
      "    rx = np.array(rocks)\n",
      "    return rx[:,0] * rx[:,1] / 10e6\n",
      "\n",
      "ai = make_ai(rocks)\n",
      "print ai"
     ],
     "language": "python",
     "metadata": {},
     "outputs": [
      {
       "output_type": "stream",
       "stream": "stdout",
       "text": [
        "[ 0.798  0.798  0.588  0.588]\n"
       ]
      }
     ],
     "prompt_number": 4
    },
    {
     "cell_type": "code",
     "collapsed": false,
     "input": [
      "def make_earth(depth, length, width, ai):\n",
      "    \n",
      "    earth = np.ones((depth,length,width))\n",
      "\n",
      "    for xslice in range(int(length)):\n",
      "        thickness = (depth/3)*(1 + xslice/length)\n",
      "        \n",
      "        value = (ai[1]*xslice/length) + (ai[2]*(length-xslice)/length)\n",
      "        earth[:,xslice,:] *= value    \n",
      "        \n",
      "        # Draw the bottom of the wedge\n",
      "        value = ai[0]\n",
      "        for (z,y),v in np.ndenumerate(earth[:,xslice,:]):\n",
      "            if z > thickness:\n",
      "                earth[z,xslice,y] = value\n",
      "    \n",
      "        # Put the top on\n",
      "        value = ai[3]\n",
      "        for (z,y),v in np.ndenumerate(earth[:,xslice,:]):\n",
      "            if z < depth/3:\n",
      "                earth[z,xslice,y] = value\n",
      "        \n",
      "    return earth"
     ],
     "language": "python",
     "metadata": {},
     "outputs": [],
     "prompt_number": 5
    },
    {
     "cell_type": "code",
     "collapsed": false,
     "input": [
      "%timeit earth = make_earth(depth, length, width, ai)"
     ],
     "language": "python",
     "metadata": {},
     "outputs": [
      {
       "output_type": "stream",
       "stream": "stdout",
       "text": [
        "1 loops, best of 3: 3.49 s per loop\n"
       ]
      }
     ],
     "prompt_number": 6
    },
    {
     "cell_type": "code",
     "collapsed": false,
     "input": [
      "earth = make_earth(depth, length, width, ai)"
     ],
     "language": "python",
     "metadata": {},
     "outputs": [],
     "prompt_number": 7
    },
    {
     "cell_type": "code",
     "collapsed": false,
     "input": [
      "earth.shape"
     ],
     "language": "python",
     "metadata": {},
     "outputs": [
      {
       "output_type": "pyout",
       "prompt_number": 8,
       "text": [
        "(240, 100, 100)"
       ]
      }
     ],
     "prompt_number": 8
    },
    {
     "cell_type": "heading",
     "level": 2,
     "metadata": {},
     "source": [
      "Index the array with a list"
     ]
    },
    {
     "cell_type": "markdown",
     "metadata": {},
     "source": [
      "You can index an array with an array-like object \u2014\u00a0a list or another array. "
     ]
    },
    {
     "cell_type": "code",
     "collapsed": false,
     "input": [
      "a = np.array([1,2,3,4,5,6,7,8])     # A 1D array\n",
      "b = [1,3,5,7]\n",
      "print a[b]\n",
      "\n",
      "d = np.array([[1,2,3,4],[5,6,7,8]]) # A 2D array...\n",
      "e = [[0,1],[1,3]]                   # Needs 2 indices\n",
      "print d[e]"
     ],
     "language": "python",
     "metadata": {},
     "outputs": [
      {
       "output_type": "stream",
       "stream": "stdout",
       "text": [
        "[2 4 6 8]\n",
        "[2 8]\n"
       ]
      }
     ],
     "prompt_number": 9
    },
    {
     "cell_type": "markdown",
     "metadata": {},
     "source": [
      "Now let's try using index lists, building the indices with nested list comprehensions."
     ]
    },
    {
     "cell_type": "code",
     "collapsed": false,
     "input": [
      "def use_index_lists(depth, length, width, ai):\n",
      "    \n",
      "    earth = np.ones((depth,length,width))\n",
      "    \n",
      "    # Bottom indices\n",
      "    indices = [[[x for x in range(int(length))] for y in range(int(width))] for z in range(int(depth/2))]    \n",
      "    earth[indices] = 2.\n",
      "    \n",
      "    return earth"
     ],
     "language": "python",
     "metadata": {},
     "outputs": [],
     "prompt_number": 11
    },
    {
     "cell_type": "code",
     "collapsed": false,
     "input": [
      "# Only getting started, let's test it...\n",
      "%timeit earth_index_lists = use_index_lists(depth, length, width, ai)"
     ],
     "language": "python",
     "metadata": {},
     "outputs": [
      {
       "output_type": "stream",
       "stream": "stdout",
       "text": [
        "1 loops, best of 3: 2min 29s per loop\n"
       ]
      }
     ],
     "prompt_number": 14
    },
    {
     "cell_type": "code",
     "collapsed": false,
     "input": [
      "earth_index_lists = use_index_lists(depth, length, width, ai)"
     ],
     "language": "python",
     "metadata": {},
     "outputs": [],
     "prompt_number": 12
    },
    {
     "cell_type": "code",
     "collapsed": false,
     "input": [
      "earth_index_lists.shape"
     ],
     "language": "python",
     "metadata": {},
     "outputs": [
      {
       "metadata": {},
       "output_type": "pyout",
       "prompt_number": 13,
       "text": [
        "(240, 100, 100)"
       ]
      }
     ],
     "prompt_number": 13
    },
    {
     "cell_type": "markdown",
     "metadata": {},
     "source": [
      "That was unbelievably slow. Forget it. "
     ]
    },
    {
     "cell_type": "heading",
     "level": 2,
     "metadata": {},
     "source": [
      "Fewer loops"
     ]
    },
    {
     "cell_type": "markdown",
     "metadata": {},
     "source": [
      "It occurs to me I have too many loops. I think I need one, because the values I want vary with index.\n",
      "\n",
      "I just realized that instead of enumerating and deciding if the *z*-index is greater than thickness, say, I can just slice with thickness as the index. Doh! NumPy is awesome..."
     ]
    },
    {
     "cell_type": "code",
     "collapsed": false,
     "input": [
      "def one_loop(depth, length, width, ai):\n",
      "    \n",
      "    earth = np.ones((depth,length,width))\n",
      "    \n",
      "    d = depth/3\n",
      "    \n",
      "    for xslice in range(int(length)):\n",
      "        xl = xslice/length\n",
      "        thickness = d*(1 + xl)\n",
      "        mix = (ai[1]*xl) + (ai[2]*(length-xslice)/length)\n",
      "        \n",
      "        # Draw wedge\n",
      "        earth[:,xslice,:] *= mix    \n",
      "\n",
      "    # Put the top on\n",
      "    earth[:d,:,:] = ai[3]\n",
      " \n",
      "    return earth"
     ],
     "language": "python",
     "metadata": {},
     "outputs": [],
     "prompt_number": 21
    },
    {
     "cell_type": "code",
     "collapsed": false,
     "input": [
      "%timeit one_loop(depth, length, width, ai)"
     ],
     "language": "python",
     "metadata": {},
     "outputs": [
      {
       "output_type": "stream",
       "stream": "stdout",
       "text": [
        "100 loops, best of 3: 15.7 ms per loop\n"
       ]
      }
     ],
     "prompt_number": 22
    },
    {
     "cell_type": "markdown",
     "metadata": {},
     "source": [
      "Holy crap, that's a bit better."
     ]
    },
    {
     "cell_type": "code",
     "collapsed": false,
     "input": [
      "earth = one_loop(depth, length, width, ai)"
     ],
     "language": "python",
     "metadata": {},
     "outputs": [],
     "prompt_number": 12
    },
    {
     "cell_type": "heading",
     "level": 2,
     "metadata": {},
     "source": [
      "Check plot"
     ]
    },
    {
     "cell_type": "code",
     "collapsed": false,
     "input": [
      "plot_slices(earth, interpolation='nearest', cmap='jet')"
     ],
     "language": "python",
     "metadata": {},
     "outputs": [],
     "prompt_number": 13
    },
    {
     "cell_type": "heading",
     "level": 2,
     "metadata": {},
     "source": [
      "The final frontier"
     ]
    },
    {
     "cell_type": "markdown",
     "metadata": {},
     "source": [
      "The last tricky bit is the outer loop. It's only there to loop over the *x*-slices. The tricky part is that the wedge thickness calculation depends on the index of the slice. I think <code>numpy.indices</code> can provide this aspect and avoid the loop..."
     ]
    },
    {
     "cell_type": "code",
     "collapsed": false,
     "input": [
      "zs, xs, ys = np.indices((4,3,2))\n",
      "print \"x values:\\n\", xs\n",
      "print \"\\ny values:\\n\", ys\n",
      "print \"\\nz values:\\n\", zs"
     ],
     "language": "python",
     "metadata": {},
     "outputs": [
      {
       "output_type": "stream",
       "stream": "stdout",
       "text": [
        "x values:\n",
        "[[[0 0]\n",
        "  [1 1]\n",
        "  [2 2]]\n",
        "\n",
        " [[0 0]\n",
        "  [1 1]\n",
        "  [2 2]]\n",
        "\n",
        " [[0 0]\n",
        "  [1 1]\n",
        "  [2 2]]\n",
        "\n",
        " [[0 0]\n",
        "  [1 1]\n",
        "  [2 2]]]\n",
        "\n",
        "y values:\n",
        "[[[0 1]\n",
        "  [0 1]\n",
        "  [0 1]]\n",
        "\n",
        " [[0 1]\n",
        "  [0 1]\n",
        "  [0 1]]\n",
        "\n",
        " [[0 1]\n",
        "  [0 1]\n",
        "  [0 1]]\n",
        "\n",
        " [[0 1]\n",
        "  [0 1]\n",
        "  [0 1]]]\n",
        "\n",
        "z values:\n",
        "[[[0 0]\n",
        "  [0 0]\n",
        "  [0 0]]\n",
        "\n",
        " [[1 1]\n",
        "  [1 1]\n",
        "  [1 1]]\n",
        "\n",
        " [[2 2]\n",
        "  [2 2]\n",
        "  [2 2]]\n",
        "\n",
        " [[3 3]\n",
        "  [3 3]\n",
        "  [3 3]]]\n"
       ]
      }
     ],
     "prompt_number": 13
    },
    {
     "cell_type": "code",
     "collapsed": false,
     "input": [
      "def no_loop(depth, length, width, ai):\n",
      "    \n",
      "    # Make an earth full of ones\n",
      "    earth = np.ones((depth,length,width))\n",
      "    \n",
      "    # Set up the gradient, which we'll then crop, so to speak\n",
      "    mix = np.array([(ai[1]*x/length) + (ai[2]*(length-x)/length) for x in range(int(length))])\n",
      "    earth *= mix[:, np.newaxis]\n",
      "    \n",
      "    # Now make the wedge\n",
      "    d = depth/3\n",
      "    thickness = [d*(1 + x/length) for x in range(int(length))]\n",
      "    \n",
      "    # Make a set of index arrays\n",
      "    zs = np.indices(earth.shape)[0]\n",
      "    \n",
      "    # Make a boolean array map of stuff below the wedge\n",
      "    below = zs > thickness\n",
      "    \n",
      "    # I don't know why I have to do this but I do\n",
      "    below = np.swapaxes(below, axis1=1, axis2=2)\n",
      "    \n",
      "    # Set those values to the lowermost rock AI\n",
      "    earth[below] = ai[0]\n",
      "\n",
      "    # Put the top layer on\n",
      "    earth[:d,:,:] = ai[3]\n",
      " \n",
      "    return earth"
     ],
     "language": "python",
     "metadata": {},
     "outputs": [],
     "prompt_number": 14
    },
    {
     "cell_type": "code",
     "collapsed": false,
     "input": [
      "%timeit earth = no_loop(depth, length, width, ai)"
     ],
     "language": "python",
     "metadata": {},
     "outputs": [
      {
       "output_type": "stream",
       "stream": "stdout",
       "text": [
        "10 loops, best of 3: 37.1 ms per loop\n"
       ]
      }
     ],
     "prompt_number": 15
    },
    {
     "cell_type": "code",
     "collapsed": false,
     "input": [
      "earth = no_loop(depth, length, width, ai)"
     ],
     "language": "python",
     "metadata": {},
     "outputs": [],
     "prompt_number": 16
    },
    {
     "cell_type": "code",
     "collapsed": false,
     "input": [
      "plot_slices(earth, interpolation='nearest', cmap='jet')"
     ],
     "language": "python",
     "metadata": {},
     "outputs": [
      {
       "metadata": {},
       "output_type": "display_data",
       "png": "[encoded data removed]",
       "text": [
        "<matplotlib.figure.Figure at 0x1117eb890>"
       ]
      }
     ],
     "prompt_number": 17
    },
    {
     "cell_type": "markdown",
     "metadata": {},
     "source": [
      "Amazing \u2014\u00a0the <code>for</code> loop is 3 times faster! And I think it's the <code>indices</code> part that is slowing it down, because without that section (the line with <code>np.indices</code> and the three lines after it), it only takes 9.5 ms to execute."
     ]
    },
    {
     "cell_type": "heading",
     "level": 2,
     "metadata": {},
     "source": [
      "Conclusion"
     ]
    },
    {
     "cell_type": "markdown",
     "metadata": {},
     "source": [
      "Assuming I'm not doing something stupid in this code, it seems it's not always faster with indexing."
     ]
    }
   ],
   "metadata": {}
  }
 ]
}